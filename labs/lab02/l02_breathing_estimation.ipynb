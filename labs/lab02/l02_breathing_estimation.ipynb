{
 "cells": [
  {
   "cell_type": "markdown",
   "metadata": {},
   "source": [
    "\n",
    "<br>\n",
    "    The objective of this exercise is that you analyse the code provided and<br>\n",
    "    make the link with the curse. You have to provide a short report that<br>\n",
    "    comments and analyse the results. You can use directly the results or adapt<br>\n",
    "    them to you needs.<br>\n"
   ]
  },
  {
   "cell_type": "markdown",
   "metadata": {},
   "source": [
    "import the numerical library"
   ]
  },
  {
   "cell_type": "code",
   "execution_count": null,
   "metadata": {},
   "outputs": [],
   "source": [
    "import numpy as np\n",
    "# import signal processing library\n",
    "import scipy.signal as sp\n",
    "# import ploting library\n",
    "import pylab as py\n",
    "py.ion()\n",
    "py.close('all')"
   ]
  },
  {
   "cell_type": "markdown",
   "metadata": {},
   "source": [
    "load the ecg signal"
   ]
  },
  {
   "cell_type": "code",
   "execution_count": null,
   "metadata": {},
   "outputs": [],
   "source": [
    "x = np.genfromtxt('respiration.dat')\n",
    "# sampling frequency of the signal is 500 Hz\n",
    "fs = 2\n",
    "# generate correponding time vector\n",
    "t = np.arange(len(x))/fs"
   ]
  },
  {
   "cell_type": "markdown",
   "metadata": {},
   "source": [
    "\n",
    " <br>\n",
    "    The signal is a measurement of the breathing obtained by inductance<br>\n",
    "    plethysmography.<br>\n",
    "    The objective is to estimate the breathing frequency.<br>\n"
   ]
  },
  {
   "cell_type": "markdown",
   "metadata": {},
   "source": [
    "\n",
    " <br>\n",
    "    The Hilbert transforms permits to estimate the instaneous amplitude and<br>\n",
    "    phase of a narrow band signal. <br>\n",
    "    Q: Comment the figures.<br>\n",
    "    Q: Why the envelope does no follow the maxima of the signal<br>\n"
   ]
  },
  {
   "cell_type": "markdown",
   "metadata": {},
   "source": [
    "compute the analytical signal of x (Hilbert transform)"
   ]
  },
  {
   "cell_type": "code",
   "execution_count": null,
   "metadata": {},
   "outputs": [],
   "source": [
    "xa = sp.hilbert(x)"
   ]
  },
  {
   "cell_type": "markdown",
   "metadata": {},
   "source": [
    "plot the signal"
   ]
  },
  {
   "cell_type": "code",
   "execution_count": null,
   "metadata": {},
   "outputs": [],
   "source": [
    "py.figure(1, figsize=[5,5])\n",
    "py.clf()\n",
    "py.plot(t, x, label='breathing signal')\n",
    "py.plot(t, np.abs(xa), label='envelop')\n",
    "py.xlabel('time (s)')\n",
    "py.ylabel('amplitude (a.u.)')\n",
    "py.legend(loc='upper right')\n",
    "py.title('Breathing signal')"
   ]
  },
  {
   "cell_type": "markdown",
   "metadata": {},
   "source": [
    "\n",
    "<br>\n",
    "    The raw breathing signal does not fullfil the requirement of narrow band.<br>\n",
    "    The normal range of frequency for the breathing is within 0.1 to 0.25 Hz.<br>\n",
    "    The signal is first filtered for this interval.<br>\n",
    "    Q: Comment the figures<br>\n",
    "    Q: How is the estimation of the amplitude envelope.<br>\n"
   ]
  },
  {
   "cell_type": "markdown",
   "metadata": {},
   "source": [
    "Analogic limit of the passband frequency"
   ]
  },
  {
   "cell_type": "code",
   "execution_count": null,
   "metadata": {},
   "outputs": [],
   "source": [
    "f_pass = np.array([0.1, 0.25])\n",
    "# Analogic limit of the stopband frequency\n",
    "f_stop = np.array([0, 0.6])\n",
    "# Convertion into Nyquist frequency\n",
    "f_pass_N = f_pass/fs*2\n",
    "f_stop_N = f_stop/fs*2\n",
    "# Max attenutation in passband (dB)\n",
    "g_pass = 3\n",
    "# Min attenuation in stopband (dB)\n",
    "g_stop = 40\n",
    "# Determine the order and the cutoff frequency of a butterworth filter\n",
    "ord, wn = sp.buttord(f_pass_N, f_stop_N, g_pass, g_stop)\n",
    "# Compute the coeffcients of the filter\n",
    "b, a = sp.butter(ord, wn, btype='band')\n",
    "# Filter the signal\n",
    "x_bp = sp.filtfilt(b ,a, x)"
   ]
  },
  {
   "cell_type": "markdown",
   "metadata": {},
   "source": [
    "Compute the Hilbert transform."
   ]
  },
  {
   "cell_type": "code",
   "execution_count": null,
   "metadata": {},
   "outputs": [],
   "source": [
    "xa = sp.hilbert(x_bp)"
   ]
  },
  {
   "cell_type": "code",
   "execution_count": null,
   "metadata": {},
   "outputs": [],
   "source": [
    "py.figure(2, figsize=[5,5])\n",
    "py.clf()\n",
    "py.plot(t, x_bp, label='filtered breathing signal')\n",
    "py.plot(t, np.abs(xa), label='envelop')\n",
    "py.xlabel('time (s)')\n",
    "py.ylabel('amplitude (a.u.)')\n",
    "py.title('Filtered breathing signal')\n",
    "py.legend(loc='upper right')"
   ]
  },
  {
   "cell_type": "markdown",
   "metadata": {},
   "source": [
    "\n",
    "<br>\n",
    "    The angle of the Hilbert transform gives the instaneous phase of the signal.<br>\n",
    "    Q: Comment the figure.<br>\n",
    "    Q: What is the role of the unwrap function<br>\n"
   ]
  },
  {
   "cell_type": "markdown",
   "metadata": {},
   "source": [
    "estimate the instantaneous phase from the Hilbert transform"
   ]
  },
  {
   "cell_type": "code",
   "execution_count": null,
   "metadata": {},
   "outputs": [],
   "source": [
    "phi_xa = np.angle(xa)\n",
    "# phase is bounded between -pi and pi -> reconstruct continuous signal\n",
    "phi_xa_unw = np.unwrap(phi_xa)"
   ]
  },
  {
   "cell_type": "code",
   "execution_count": null,
   "metadata": {},
   "outputs": [],
   "source": [
    "py.figure(3, figsize=[5, 8])\n",
    "py.clf()\n",
    "py.subplot(2,1,1)\n",
    "py.plot(t, phi_xa)\n",
    "py.xlabel('time (s)')\n",
    "py.ylabel('instantaneous phase (rad)')\n",
    "py.subplot(2,1,2)\n",
    "py.plot(t, phi_xa_unw)\n",
    "py.xlabel('time (s)')\n",
    "py.ylabel('instantaneous phase unwrapped (rad)')"
   ]
  },
  {
   "cell_type": "markdown",
   "metadata": {},
   "source": [
    "\n",
    "<br>\n",
    "    The time derivate of the instaneous phase is the instaneous frequency of the<br>\n",
    "    signal.<br>\n",
    "    Q: Comment the figure.<br>\n",
    "    Q: Compare the original waveform with the estimation of the breathing<br>\n",
    "       frequency<br>\n"
   ]
  },
  {
   "cell_type": "markdown",
   "metadata": {},
   "source": [
    "compute the derivative of the phase (angular frequency)."
   ]
  },
  {
   "cell_type": "code",
   "execution_count": null,
   "metadata": {},
   "outputs": [],
   "source": [
    "d_phi = np.diff(phi_xa_unw)\n",
    "# convert angular frequency to frequency.\n",
    "d_phi /= 2*np.pi\n",
    "# convert digital frequency to analog frequency and in breathing per minute\n",
    "# (bpm)\n",
    "d_phi *= fs*60"
   ]
  },
  {
   "cell_type": "code",
   "execution_count": null,
   "metadata": {},
   "outputs": [],
   "source": [
    "py.figure(4, figsize=[5,8])\n",
    "py.clf()\n",
    "py.subplot(2,1,1)\n",
    "py.plot(t, x, label='breathing signal')\n",
    "py.xlabel('time (s)')\n",
    "py.ylabel('amplitude (a.u.)')\n",
    "py.title('Breathing signal')\n",
    "py.subplot(2,1,2)\n",
    "py.plot(t[1:], d_phi)\n",
    "py.xlabel('time (s)')\n",
    "py.ylabel('breathing rate (bpm)')"
   ]
  }
 ],
 "metadata": {
  "kernelspec": {
   "display_name": "Python 3 (ipykernel)",
   "language": "python",
   "name": "python3"
  },
  "language_info": {
   "codemirror_mode": {
    "name": "ipython",
    "version": 3
   },
   "file_extension": ".py",
   "mimetype": "text/x-python",
   "name": "python",
   "nbconvert_exporter": "python",
   "pygments_lexer": "ipython3",
   "version": "3.10.12"
  }
 },
 "nbformat": 4,
 "nbformat_minor": 2
}
