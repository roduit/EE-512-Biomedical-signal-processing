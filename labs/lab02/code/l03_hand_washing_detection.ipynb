{
 "cells": [
  {
   "cell_type": "markdown",
   "metadata": {},
   "source": [
    "\n",
    "<br>\n",
    "    The objective of this exercise is that you analyse the code provided and<br>\n",
    "    make the link with the curse. You have to provide a short report that<br>\n",
    "    comments and analyse the results. You can use directly the results or adapt<br>\n",
    "    them to you needs.<br>\n"
   ]
  },
  {
   "cell_type": "markdown",
   "metadata": {},
   "source": [
    "import the numerical library"
   ]
  },
  {
   "cell_type": "code",
   "execution_count": null,
   "metadata": {},
   "outputs": [],
   "source": [
    "import numpy as np\n",
    "# import signal processing library\n",
    "import scipy.signal as sp\n",
    "# import ploting library\n",
    "import pylab as py\n",
    "py.ion()\n",
    "py.close('all')"
   ]
  },
  {
   "cell_type": "markdown",
   "metadata": {},
   "source": [
    "load the ecg signal"
   ]
  },
  {
   "cell_type": "code",
   "execution_count": null,
   "metadata": {},
   "outputs": [],
   "source": [
    "x = np.genfromtxt('accel.dat')\n",
    "# sampling frequency of the signal is 500 Hz\n",
    "fs = 40\n",
    "# generate correponding time vector\n",
    "t = np.arange(len(x))/fs"
   ]
  },
  {
   "cell_type": "markdown",
   "metadata": {},
   "source": [
    "\n",
    " <br>\n",
    "    The signal is an acceleration signal measured at the wrist.<br>\n",
    "    The signal records the acceleration during the hand washing protocol in an<br>\n",
    "    hospital. The goal is to detect the hand washing sequence.<br>\n",
    "    The hand washing protocol produced rhythmical movements.<br>\n",
    "    The protocol is known to take place between 20 and 30 seconds.<br>\n"
   ]
  },
  {
   "cell_type": "markdown",
   "metadata": {},
   "source": [
    "\n",
    " <br>\n",
    "    Plot time signal.<br>\n",
    "    Q: Comment the figure.<br>\n"
   ]
  },
  {
   "cell_type": "markdown",
   "metadata": {},
   "source": [
    "Compute the FFT of the signal"
   ]
  },
  {
   "cell_type": "code",
   "execution_count": null,
   "metadata": {},
   "outputs": [],
   "source": [
    "x_fft = np.fft.fft(x)\n",
    "# Determine the frequency scale\n",
    "f_fft = np.arange(len(x_fft))/len(x_fft)*fs"
   ]
  },
  {
   "cell_type": "markdown",
   "metadata": {},
   "source": [
    "plot the signal"
   ]
  },
  {
   "cell_type": "code",
   "execution_count": null,
   "metadata": {},
   "outputs": [],
   "source": [
    "py.figure(1, figsize=[5,5])\n",
    "py.clf()\n",
    "py.plot(t, x)\n",
    "py.xlabel('time (s)')\n",
    "py.ylabel('amplitude (a.u.)')\n",
    "py.title('acceleration signal signal')"
   ]
  },
  {
   "cell_type": "markdown",
   "metadata": {},
   "source": [
    "\n",
    " <br>\n",
    "    High pass the signal.<br>\n",
    "    Q: Comment the figure.<br>\n"
   ]
  },
  {
   "cell_type": "markdown",
   "metadata": {},
   "source": [
    "high-pass filter with cutoff frequency of 0.5 Hz"
   ]
  },
  {
   "cell_type": "code",
   "execution_count": null,
   "metadata": {},
   "outputs": [],
   "source": [
    "b, a = sp.butter(4, 0.5/fs*2, btype='high')\n",
    "# zero-phase filtering of the signal\n",
    "x_hp = sp.filtfilt(b, a, x)"
   ]
  },
  {
   "cell_type": "code",
   "execution_count": null,
   "metadata": {},
   "outputs": [],
   "source": [
    "py.figure(2, figsize=[5,5])\n",
    "py.clf()\n",
    "py.subplot(2,1,1)\n",
    "py.plot(t, x_hp)\n",
    "py.xlabel('time (s)')\n",
    "py.ylabel('amplitude (a.u.)')\n",
    "py.title('high-pass acceleration signal')\n",
    "py.subplot(2,1,2)\n",
    "py.plot(t, x_hp)\n",
    "py.xlabel('time (s)')\n",
    "py.ylabel('amplitude (a.u.)')\n",
    "py.title('high-pass acceleration signal (zoom)')\n",
    "py.xlim(20, 30)"
   ]
  },
  {
   "cell_type": "markdown",
   "metadata": {},
   "source": [
    "\n",
    "<br>\n",
    "    Band pass the signal between 2.4 and 3.2 Hz.<br>\n",
    "    Q: Based on previous figure, comment the selection of the frequencies.<br>\n",
    "    Q: Why zero phase filter (filtfilt) is used?<br>\n"
   ]
  },
  {
   "cell_type": "markdown",
   "metadata": {},
   "source": [
    "Analogic limit of the passband frequency"
   ]
  },
  {
   "cell_type": "code",
   "execution_count": null,
   "metadata": {},
   "outputs": [],
   "source": [
    "f_pass = np.array([2.4, 3.2])\n",
    "# Analogic limit of the stopband frequency\n",
    "f_stop = np.array([0, 5])\n",
    "# Convertion into Nyquist frequency\n",
    "f_pass_N = f_pass/fs*2\n",
    "f_stop_N = f_stop/fs*2\n",
    "# Max attenutation in passband (dB)\n",
    "g_pass = 3\n",
    "# Min attenuation in stopband (dB)\n",
    "g_stop = 40\n",
    "# Determine the order and the cutoff frequency of a butterworth filter\n",
    "ord, wn = sp.buttord(f_pass_N, f_stop_N, g_pass, g_stop)\n",
    "# Compute the coeffcients of the filter\n",
    "b, a = sp.butter(ord, wn, btype='band')\n",
    "# Filter the signal\n",
    "x_bp = sp.filtfilt(b ,a, x_hp)"
   ]
  },
  {
   "cell_type": "code",
   "execution_count": null,
   "metadata": {},
   "outputs": [],
   "source": [
    "py.figure(3, figsize=[5,5])\n",
    "py.clf()\n",
    "py.subplot(2,1,1)\n",
    "py.plot(t, x_bp)\n",
    "py.xlabel('time (s)')\n",
    "py.ylabel('amplitude (a.u.)')\n",
    "py.title('band-pass acceleration signal')\n",
    "py.subplot(2,1,2)\n",
    "py.plot(t, x_bp)\n",
    "py.xlabel('time (s)')\n",
    "py.ylabel('amplitude (a.u.)')\n",
    "py.title('band-pass acceleration signal (zoom)')\n",
    "py.xlim(20, 30)"
   ]
  },
  {
   "cell_type": "markdown",
   "metadata": {},
   "source": [
    "\n",
    "<br>\n",
    "    Low-pass filter of the power of the band-pass signal.<br>\n",
    "    Q: Why use the power of the acceleration signal?<br>\n",
    "    Q: How the detection of hand washing is obtained?<br>\n"
   ]
  },
  {
   "cell_type": "markdown",
   "metadata": {},
   "source": [
    "Analogic limit of the passband frequency"
   ]
  },
  {
   "cell_type": "code",
   "execution_count": null,
   "metadata": {},
   "outputs": [],
   "source": [
    "f_pass = 0.4\n",
    "# Analogic limit of the stopband frequency\n",
    "f_stop = 0.8\n",
    "# Convertion into Nyquist frequency\n",
    "f_pass_N = f_pass/fs*2\n",
    "f_stop_N = f_stop/fs*2\n",
    "# Max attenutation in passband (dB)\n",
    "g_pass = 3\n",
    "# Min attenuation in stopband (dB)\n",
    "g_stop = 40\n",
    "# Determine the order and the cutoff frequency of a butterworth filter\n",
    "ord, wn = sp.buttord(f_pass_N, f_stop_N, g_pass, g_stop)\n",
    "# Compute the coeffcients of the filter\n",
    "b, a = sp.butter(ord, wn)\n",
    "# Filter the signal\n",
    "x_pow = sp.filtfilt(b ,a, x_bp**2)\n",
    "# detection\n",
    "det = x_pow > 2000"
   ]
  },
  {
   "cell_type": "code",
   "execution_count": null,
   "metadata": {},
   "outputs": [],
   "source": [
    "py.figure(4, figsize=[5,8])\n",
    "py.clf()\n",
    "py.subplot(2,1,1)\n",
    "py.plot(t, x_pow)\n",
    "py.xlabel('time (s)')\n",
    "py.ylabel('amplitude (a.u.)')\n",
    "py.title('low-pass power of band-pass acceleration signal')\n",
    "py.subplot(2,1,2)\n",
    "py.plot(t, x_hp, label='acceleration')\n",
    "py.plot(t, det*200, linewidth=2, label='detection')\n",
    "py.xlabel('time (s)')\n",
    "py.ylabel('amplitude (a.u.)')\n",
    "py.title('detection of hand washing')\n",
    "py.legend(loc='upper right')"
   ]
  }
 ],
 "metadata": {
  "kernelspec": {
   "display_name": "Python 3 (ipykernel)",
   "language": "python",
   "name": "python3"
  },
  "language_info": {
   "codemirror_mode": {
    "name": "ipython",
    "version": 3
   },
   "file_extension": ".py",
   "mimetype": "text/x-python",
   "name": "python",
   "nbconvert_exporter": "python",
   "pygments_lexer": "ipython3",
   "version": "3.10.12"
  }
 },
 "nbformat": 4,
 "nbformat_minor": 2
}
