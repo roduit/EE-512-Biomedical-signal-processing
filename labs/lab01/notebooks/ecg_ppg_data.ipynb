{
 "cells": [
  {
   "cell_type": "markdown",
   "id": "cf4f9470-317a-4fda-b12a-faa899f65f67",
   "metadata": {},
   "source": [
    "# ECG and PPG Signals\n",
    "\n",
    "This notebook shows a few ECG and PPG signals recorded during different cardiac rhythms.\n",
    "\n",
    "First, we import the required packages and define global constants."
   ]
  },
  {
   "cell_type": "code",
   "execution_count": null,
   "id": "e8f6fc7c-a705-40d5-857c-10ec57c572df",
   "metadata": {},
   "outputs": [],
   "source": [
    "%matplotlib widget\n",
    "\n",
    "\n",
    "import pathlib\n",
    "import pickle\n",
    "\n",
    "import matplotlib.pyplot as plt\n",
    "import numpy as np\n",
    "\n",
    "\n",
    "DATA_FILE = pathlib.Path(\"../data/ecg_ppg_data.pkl\")"
   ]
  },
  {
   "cell_type": "markdown",
   "id": "1fcf9c38-7402-4580-af86-0b7af2583609",
   "metadata": {},
   "source": [
    "Then, we load the signals."
   ]
  },
  {
   "cell_type": "code",
   "execution_count": null,
   "id": "5d9e2ca9-7f1e-40d0-aa5e-265707353b60",
   "metadata": {},
   "outputs": [],
   "source": [
    "def load_signals():\n",
    "    with open(DATA_FILE, mode=\"rb\") as f:\n",
    "        return pickle.load(f)\n",
    "\n",
    "\n",
    "signals = load_signals()\n",
    "\n",
    "print(f\"Number of signals: {len(signals)}\")"
   ]
  },
  {
   "cell_type": "markdown",
   "id": "112fb943-5a2e-4491-8c51-07f610b0b503",
   "metadata": {},
   "source": [
    "Finally, we create a figure for each cardiac rhythm showing the ECG and PPG signals and the corresponding interbeat intervals."
   ]
  },
  {
   "cell_type": "code",
   "execution_count": null,
   "id": "85ad4448-aeeb-44c7-997c-8eebee13bbc0",
   "metadata": {},
   "outputs": [],
   "source": [
    "def plot_signal(signal):\n",
    "    fig, axes = plt.subplots(3, 1, sharex=\"all\", constrained_layout=True)\n",
    "    fig.suptitle(f\"Rhythm: {signal['rhythm']}\")\n",
    "\n",
    "    def plot_ecg(ax):\n",
    "        t = signal[\"ecg\"][\"time\"]\n",
    "        x = signal[\"ecg\"][\"signal\"]\n",
    "        beats = signal[\"ecg\"][\"beats\"]\n",
    "        ax.plot(t, x, linewidth=1)\n",
    "        ax.plot(beats, np.interp(beats, t, x), \".\")\n",
    "        ax.grid()\n",
    "        ax.set_ylabel(\"ECG\")\n",
    "\n",
    "    def plot_ppg(ax):\n",
    "        t = signal[\"ppg\"][\"time\"]\n",
    "        x = signal[\"ppg\"][\"signal\"]\n",
    "        beats = signal[\"ppg\"][\"beats\"]\n",
    "        ax.plot(t, x, linewidth=1)\n",
    "        ax.plot(beats, np.interp(beats, t, x), \".\")\n",
    "        ax.grid()\n",
    "        ax.set_ylabel(\"PPG\")\n",
    "\n",
    "    def plot_ibi(ax):\n",
    "        ecg_beats = signal[\"ecg\"][\"beats\"]\n",
    "        ppg_beats = signal[\"ppg\"][\"beats\"]\n",
    "        ax.plot(ecg_beats[1:], np.diff(ecg_beats), \".-\", linewidth=1, label=\"ECG\")\n",
    "        ax.plot(ppg_beats[1:], np.diff(ppg_beats), \".-\", linewidth=1, label=\"PPG\")\n",
    "        ax.grid()\n",
    "        ax.set_ylim(0.0, 3.0)\n",
    "        ax.set_ylabel(\"IBI [s]\")\n",
    "        ax.legend(loc=\"upper right\")\n",
    "\n",
    "    plot_ecg(axes.flat[0])\n",
    "    plot_ppg(axes.flat[1])\n",
    "    plot_ibi(axes.flat[2])\n",
    "    axes.flat[-1].set_xlabel(\"Time [s]\")\n",
    "\n",
    "\n",
    "for signal in signals:\n",
    "    plot_signal(signal)"
   ]
  },
  {
   "cell_type": "markdown",
   "id": "1fe95952-745d-4111-bcad-5444ed1cbb85",
   "metadata": {},
   "source": [
    "## Question 1\n",
    "\n",
    "What are the main differences between the ECG and PPG signals for the different rhythms? In particular, which signal is the best (ECG or PPG) to detect cardiac beats? Can you think of a few reasons explaining why one signal is better than the other?"
   ]
  }
 ],
 "metadata": {
  "kernelspec": {
   "display_name": "Python 3 (ipykernel)",
   "language": "python",
   "name": "python3"
  },
  "language_info": {
   "codemirror_mode": {
    "name": "ipython",
    "version": 3
   },
   "file_extension": ".py",
   "mimetype": "text/x-python",
   "name": "python",
   "nbconvert_exporter": "python",
   "pygments_lexer": "ipython3",
   "version": "3.10.12"
  }
 },
 "nbformat": 4,
 "nbformat_minor": 5
}
