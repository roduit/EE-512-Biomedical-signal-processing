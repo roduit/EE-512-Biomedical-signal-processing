{
 "cells": [
  {
   "cell_type": "code",
   "execution_count": 1,
   "id": "e4aafb5b",
   "metadata": {},
   "outputs": [
    {
     "name": "stdout",
     "output_type": "stream",
     "text": [
      "[4.39635131e-01 3.11031279e-01 6.62584161e-08 6.26867811e-08\n",
      " 4.86262541e-08]\n",
      "[1.20061665 0.76592543 0.34630379 0.21222007 0.13759651]\n"
     ]
    }
   ],
   "source": [
    "import numpy as np\n",
    "from numpy import genfromtxt\n",
    "\n",
    "# Load signal\n",
    "data = genfromtxt('ECG.csv', delimiter=',')\n",
    "\n",
    "# Perform SVD\n",
    "U1, S1, V1 = np.linalg.svd(data[:, 0:5], full_matrices=False)\n",
    "print(S1)\n",
    "\n",
    "# Perform SVD\n",
    "U2, S2, V2 = np.linalg.svd(data[:, 6:11], full_matrices=False)\n",
    "print(S2)\n",
    "\n"
   ]
  },
  {
   "cell_type": "markdown",
   "id": "44796825",
   "metadata": {},
   "source": [
    "# Answers\n",
    "**a) Explain the difference between singular values of the six first columns, and of the last 6 columns.** \n",
    "\n",
    "Looking at the values we get from the first SVD, one notices that the first two components are much larger than the other four, meaning that the data is essentially varying along two principal components. It shows that there are dependance between signals. \n",
    "\n",
    "On the other hand, the values of the second SVD do not feature such a high contrast, therefore we cannot reduce the number of dimensions in this case. This show less meaningful dependance between the signals. \n",
    "\n",
    " \n",
    "**b) Computate of the effective rank with a threshold of 0.98.**\n"
   ]
  },
  {
   "cell_type": "code",
   "execution_count": 3,
   "id": "b63d093f",
   "metadata": {},
   "outputs": [
    {
     "name": "stdout",
     "output_type": "stream",
     "text": [
      "Effective rank with threshold of 0.98 for S1: 2\n",
      "Effective rank with threshold of 0.98 for S2: 4\n"
     ]
    }
   ],
   "source": [
    "def effective_rank(singular_values, threshold=0.98):\n",
    "    cumulative_energy = np.cumsum(singular_values**2) / np.sum(singular_values**2)\n",
    "    rank = np.searchsorted(cumulative_energy, threshold) + 1\n",
    "    return rank\n",
    "\n",
    "# Compute effective rank for S1 and S2\n",
    "rank_S1 = effective_rank(S1, 0.98)\n",
    "rank_S2 = effective_rank(S2, 0.98)\n",
    "\n",
    "print(f\"Effective rank with threshold of 0.98 for S1: {rank_S1}\")\n",
    "print(f\"Effective rank with threshold of 0.98 for S2: {rank_S2}\")"
   ]
  }
 ],
 "metadata": {
  "kernelspec": {
   "display_name": "Python 3",
   "language": "python",
   "name": "python3"
  },
  "language_info": {
   "codemirror_mode": {
    "name": "ipython",
    "version": 3
   },
   "file_extension": ".py",
   "mimetype": "text/x-python",
   "name": "python",
   "nbconvert_exporter": "python",
   "pygments_lexer": "ipython3",
   "version": "3.12.0"
  }
 },
 "nbformat": 4,
 "nbformat_minor": 5
}
