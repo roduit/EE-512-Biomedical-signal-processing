{
 "cells": [
  {
   "cell_type": "code",
   "execution_count": 1,
   "id": "e4aafb5b",
   "metadata": {},
   "outputs": [
    {
     "name": "stdout",
     "output_type": "stream",
     "text": [
      "[4.79818570e-01 3.12183558e-01 6.64234170e-08 6.26873541e-08\n",
      " 4.87422030e-08 3.92846440e-08]\n",
      "[1.23279959 0.76958759 0.35679615 0.21497559 0.17087625 0.10968347]\n"
     ]
    }
   ],
   "source": [
    "import numpy as np\n",
    "from numpy import genfromtxt\n",
    "\n",
    "# Load signal\n",
    "data = genfromtxt('ECG.csv', delimiter=',')\n",
    "\n",
    "# Perform SVD\n",
    "U1, S1, V1 = np.linalg.svd(data[:, 0:6], full_matrices=False)\n",
    "print(S1)\n",
    "\n",
    "# Perform SVD\n",
    "U2, S2, V2 = np.linalg.svd(data[:, 6:12], full_matrices=False)\n",
    "print(S2)\n"
   ]
  },
  {
   "cell_type": "markdown",
   "id": "44796825",
   "metadata": {},
   "source": [
    "# Answers\n",
    "**a) Explain the difference between singular values of the six first columns, and of the last 6 columns.** \n",
    "\n",
    "From values of the six first columns, we can see that the first two columns are clearly non-zero with value 0.4798 and 0.3121. And the other are really small value quasi negligible values $10^{-8}$. Why ?? \n",
    "However the six last columns have all non-zero values. Meaning that ?\n",
    " \n",
    "**b) Computate of the effective rank with a threshold of 0.98.**\n"
   ]
  },
  {
   "cell_type": "code",
   "execution_count": 2,
   "id": "7ac74ff8",
   "metadata": {},
   "outputs": [
    {
     "data": {
      "text/plain": [
       "array([0.70258406, 1.        , 1.        , 1.        , 1.        ,\n",
       "       1.        ])"
      ]
     },
     "execution_count": 2,
     "metadata": {},
     "output_type": "execute_result"
    }
   ],
   "source": [
    "# Add here the code to compute the effective rank\n",
    "np.cumsum(S1*S1)/np.sum(S1*S1)\n"
   ]
  },
  {
   "cell_type": "code",
   "execution_count": 3,
   "id": "82f538ce",
   "metadata": {},
   "outputs": [
    {
     "data": {
      "text/plain": [
       "array([0.65316754, 0.90770737, 0.96241903, 0.9822808 , 0.99482963,\n",
       "       1.        ])"
      ]
     },
     "execution_count": 3,
     "metadata": {},
     "output_type": "execute_result"
    }
   ],
   "source": [
    "# Add here the code to compute the effective rank\n",
    "np.cumsum(S2**2)/np.sum(S2**2)"
   ]
  },
  {
   "cell_type": "code",
   "execution_count": null,
   "id": "caf47153",
   "metadata": {},
   "outputs": [],
   "source": []
  }
 ],
 "metadata": {
  "kernelspec": {
   "display_name": "Python 3",
   "language": "python",
   "name": "python3"
  },
  "language_info": {
   "codemirror_mode": {
    "name": "ipython",
    "version": 3
   },
   "file_extension": ".py",
   "mimetype": "text/x-python",
   "name": "python",
   "nbconvert_exporter": "python",
   "pygments_lexer": "ipython3",
   "version": "3.12.0"
  }
 },
 "nbformat": 4,
 "nbformat_minor": 5
}
