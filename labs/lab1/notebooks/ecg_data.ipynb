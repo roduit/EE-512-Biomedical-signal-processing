{
 "cells": [
  {
   "cell_type": "markdown",
   "id": "14e9353f-4334-4760-9731-d907766db7c3",
   "metadata": {},
   "source": [
    "# ECG Signals\n",
    "\n",
    "This notebook shows a few ECG signals recorded during various cardiac rhythms. The signals presented here are segments from recordings of the MIT-BIH Arrhythmia Database (https://physionet.org/content/mitdb/1.0.0/).\n",
    "\n",
    "First, we import the required packages and define global constants."
   ]
  },
  {
   "cell_type": "code",
   "execution_count": null,
   "id": "d69f6616-f63d-40dd-851d-aeda86196eaa",
   "metadata": {},
   "outputs": [],
   "source": [
    "%matplotlib widget\n",
    "\n",
    "\n",
    "import pathlib\n",
    "\n",
    "import matplotlib.pyplot as plt\n",
    "import numpy as np\n",
    "import scipy.signal\n",
    "\n",
    "\n",
    "DATA_FILE = pathlib.Path(\"../data/ecg_data.npz\")"
   ]
  },
  {
   "cell_type": "markdown",
   "id": "dafdf608-5457-4d01-bd97-a494d4f90bf7",
   "metadata": {},
   "source": [
    "Then, we load the ECG data and the corresponding cardiac rhythm labels."
   ]
  },
  {
   "cell_type": "code",
   "execution_count": null,
   "id": "0964e28d-1a3b-4f9b-8c2b-421a781ad759",
   "metadata": {},
   "outputs": [],
   "source": [
    "def load_data():\n",
    "    with np.load(DATA_FILE) as data:\n",
    "        ecg = data[\"signals\"]\n",
    "        fs = data[\"fs\"].item()\n",
    "        leads = data[\"leads\"]\n",
    "        rhythms = data[\"rhythms\"]\n",
    "        beats = data[\"beats\"]\n",
    "    beats = [indices[np.isfinite(indices)].astype(\"int64\") for indices in beats]\n",
    "    return ecg, fs, leads, rhythms, beats\n",
    "\n",
    "\n",
    "ecg, fs, leads, rhythms, beats = load_data()\n",
    "time = np.arange(ecg.shape[-1]) / fs\n",
    "\n",
    "print(f\"Sampling frequency: {fs} Hz\")\n",
    "print(f\"Number of records : {ecg.shape[0]}\")\n",
    "print(f\"Number of leads   : {ecg.shape[1]}\")"
   ]
  },
  {
   "cell_type": "markdown",
   "id": "3998cd81-c4c2-403b-acca-f94dff933f06",
   "metadata": {},
   "source": [
    "Finally, we plot the different ECG signals alongside the corresponding interbeat intervals."
   ]
  },
  {
   "cell_type": "code",
   "execution_count": null,
   "id": "dd40a3af-b6ad-46b3-8174-d5a0ec51aaca",
   "metadata": {},
   "outputs": [],
   "source": [
    "def plot_ecg(time, ecg, beats, leads, rhythm):\n",
    "    fig, axes = plt.subplots(\n",
    "        ecg.shape[0] + 1, 1, sharex=\"all\", squeeze=False, constrained_layout=True\n",
    "    )\n",
    "    fig.suptitle(f\"Rhythm: {rhythm}\")\n",
    "    for i in range(ecg.shape[0]):\n",
    "        ax = axes.flat[i]\n",
    "        ax.plot(time, ecg[i], linewidth=1)\n",
    "        ax.plot(time[beats], ecg[i, beats], \".\")\n",
    "        ax.grid()\n",
    "        ax.set_ylabel(leads[i])\n",
    "    ax = axes.flat[-1]\n",
    "    ax.plot(time[beats[1:]], np.diff(time[beats]), \".-\", linewidth=1)\n",
    "    ax.grid()\n",
    "    ax.set_ylim(0.0, 3.0)\n",
    "    ax.set_xlabel(\"Time [s]\")\n",
    "    ax.set_ylabel(\"IBI [s]\")\n",
    "\n",
    "\n",
    "for i in range(ecg.shape[0]):\n",
    "    plot_ecg(time, ecg[i], beats[i], leads[i], rhythms[i])"
   ]
  },
  {
   "cell_type": "markdown",
   "id": "224c9f35-7d5e-4572-b182-aa5371eb432b",
   "metadata": {},
   "source": [
    "## Question 1\n",
    "\n",
    "What are the main aspects of each cardiac rhythm in terms of ECG and interbeat intervals? Which features of the signals would be interesting to distinguish the different rhythms?\n",
    "\n",
    "## Question 2 (optional)\n",
    "\n",
    "Some ECG signals are noisy. In particular, lead V1 of the normal sinus rhythm example is corrupted by a power line interference at 60 Hz (the dataset was recorded in Boston). In addition, the baseline fluctuates quite a bit in some examples.\n",
    "\n",
    "Can you reduce these interferences with a digital filter without distorting the ECG signal?\n",
    "\n",
    "Here are a few SciPy functions to create and apply digital filters:\n",
    "\n",
    "* [`scipy.signal.firls`](https://docs.scipy.org/doc/scipy/reference/generated/scipy.signal.firls.html): FIR filter design using least-squares error minimization.\n",
    "* [`scipy.signal.firwin`](https://docs.scipy.org/doc/scipy/reference/generated/scipy.signal.firwin.html): FIR filter design using the window method.\n",
    "* [`scipy.signal.iirdesign`](https://docs.scipy.org/doc/scipy/reference/generated/scipy.signal.iirdesign.html): IIR filter design.\n",
    "* [`scipy.signal.freqz`](https://docs.scipy.org/doc/scipy/reference/generated/scipy.signal.freqz.html): Compute the frequency response of a filter.\n",
    "* [`scipy.signal.lfilter`](https://docs.scipy.org/doc/scipy/reference/generated/scipy.signal.lfilter.html): Filter a signal with an IIR or FIR filter.\n",
    "* [`scipy.signal.filtfilt`](https://docs.scipy.org/doc/scipy/reference/generated/scipy.signal.filtfilt.html): Apply a filter forward and backward to a signal (and avoid distortions caused by IIR filters).\n",
    "\n",
    "You can get the ECG signal for lead V1 of the normal sinus rhythm example as follows.\n",
    "\n",
    "```python\n",
    "x = ecg[0, 1]\n",
    "```"
   ]
  }
 ],
 "metadata": {
  "kernelspec": {
   "display_name": "Python 3 (ipykernel)",
   "language": "python",
   "name": "python3"
  },
  "language_info": {
   "codemirror_mode": {
    "name": "ipython",
    "version": 3
   },
   "file_extension": ".py",
   "mimetype": "text/x-python",
   "name": "python",
   "nbconvert_exporter": "python",
   "pygments_lexer": "ipython3",
   "version": "3.10.12"
  }
 },
 "nbformat": 4,
 "nbformat_minor": 5
}
