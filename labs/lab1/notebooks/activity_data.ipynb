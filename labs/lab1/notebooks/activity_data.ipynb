{
 "cells": [
  {
   "cell_type": "markdown",
   "id": "365203d8-f926-4a08-b1e6-3d5596627ab8",
   "metadata": {},
   "source": [
    "# Acceleration and PPG Signals\n",
    "\n",
    "This notebook shows acceleration and PPG signals recorded from the wrist during a protocol with various activities. The different activities are listed here.\n",
    "\n",
    "* Lying down\n",
    "* Standing\n",
    "* Sitting\n",
    "* Walking\n",
    "* Running\n",
    "\n",
    "First, we import the required packages and define global constants."
   ]
  },
  {
   "cell_type": "code",
   "execution_count": null,
   "id": "c7b2e6c5-73f4-4d62-af49-60a3422f9fc6",
   "metadata": {},
   "outputs": [],
   "source": [
    "%matplotlib widget\n",
    "\n",
    "\n",
    "import pathlib\n",
    "\n",
    "import matplotlib.pyplot as plt\n",
    "import numpy as np\n",
    "import scipy.signal\n",
    "\n",
    "\n",
    "DATA_FILE = pathlib.Path(\"../data/activity_data.npz\")"
   ]
  },
  {
   "cell_type": "markdown",
   "id": "88a9a54c-9198-4bf0-94d9-780e0767b460",
   "metadata": {},
   "source": [
    "Then, we load the acceleration and PPG signals as well as the reference heart rate."
   ]
  },
  {
   "cell_type": "code",
   "execution_count": null,
   "id": "f8dd4d0e-9c03-42cc-a654-ac7bed63a2dc",
   "metadata": {},
   "outputs": [],
   "source": [
    "def load_data():\n",
    "    with np.load(DATA_FILE) as data:\n",
    "        time = data[\"time\"]\n",
    "        acceleration = data[\"acceleration\"]\n",
    "        ppg = data[\"ppg\"]\n",
    "        hr_time = data[\"hr_time\"]\n",
    "        hr = data[\"hr\"]\n",
    "    return time, acceleration, ppg, hr_time, hr\n",
    "\n",
    "\n",
    "time, acceleration, ppg, hr_time, hr = load_data()"
   ]
  },
  {
   "cell_type": "markdown",
   "id": "38d34d3f-59e5-4524-8a1d-884e77a95f8d",
   "metadata": {},
   "source": [
    "Finally, we plot the signals and the heart rate."
   ]
  },
  {
   "cell_type": "code",
   "execution_count": null,
   "id": "d4c260d5-9cd7-4841-bb0a-ad9139fef22e",
   "metadata": {},
   "outputs": [],
   "source": [
    "def plot_signals(\n",
    "    time, acceleration, ppg, hr_time, hr, start=None, end=None, title=None\n",
    "):\n",
    "    mask = np.ones(time.size, dtype=\"bool\")\n",
    "    hr_mask = np.ones(hr_time.size, dtype=\"bool\")\n",
    "    if start is not None:\n",
    "        mask = np.logical_and(mask, time >= start)\n",
    "        hr_mask = np.logical_and(hr_mask, hr_time >= start)\n",
    "    if end is not None:\n",
    "        mask = np.logical_and(mask, time <= end)\n",
    "        hr_mask = np.logical_and(hr_mask, hr_time <= end)\n",
    "    time = time[mask]\n",
    "    acceleration = acceleration[mask]\n",
    "    ppg = ppg[mask]\n",
    "    hr_time = hr_time[hr_mask]\n",
    "    hr = hr[hr_mask]\n",
    "\n",
    "    fig, axes = plt.subplots(3, 1, sharex=\"all\", constrained_layout=True)\n",
    "    if title is not None:\n",
    "        plt.suptitle(title)\n",
    "    plt.sca(axes.flat[0])\n",
    "    plt.plot(time, acceleration, linewidth=1)\n",
    "    plt.grid()\n",
    "    plt.ylabel(\"Acceleration [g]\")\n",
    "    plt.legend([\"X-axis\", \"Y-axis\", \"Z-axis\"], loc=\"upper right\")\n",
    "    plt.sca(axes.flat[1])\n",
    "    plt.plot(time, ppg, linewidth=1)\n",
    "    plt.grid()\n",
    "    plt.ylabel(\"PPG\")\n",
    "    plt.sca(axes.flat[2])\n",
    "    plt.plot(hr_time, hr, linewidth=1)\n",
    "    plt.ylim(0.0, 240.0)\n",
    "    plt.grid()\n",
    "    plt.xlabel(\"Time [s]\")\n",
    "    plt.ylabel(\"Heart rate [bpm]\")\n",
    "\n",
    "\n",
    "plot_signals(time, acceleration, ppg, hr_time, hr)"
   ]
  },
  {
   "cell_type": "markdown",
   "id": "dcf99e80-e522-4914-9f91-7c4a32c57ce7",
   "metadata": {},
   "source": [
    "We can also plot the spectrogram of the PPG signal to see the different frequency components."
   ]
  },
  {
   "cell_type": "code",
   "execution_count": null,
   "id": "dd7017fe-dd71-465b-901f-cd73a7386ba8",
   "metadata": {},
   "outputs": [],
   "source": [
    "def plot_spectrogam(time, ppg, hr_time, hr):\n",
    "    fs = 1.0 / np.median(np.diff(time))\n",
    "    plt.figure(constrained_layout=True)\n",
    "    plt.specgram(ppg, Fs=fs, NFFT=512, detrend=\"mean\")\n",
    "    plt.plot(hr_time, hr / 60.0, color=\"white\")\n",
    "    plt.xlabel(\"Time [s]\")\n",
    "    plt.ylabel(\"Frequency [Hz]\")\n",
    "\n",
    "\n",
    "plot_spectrogam(time, ppg, hr_time, hr)"
   ]
  },
  {
   "cell_type": "markdown",
   "id": "775e785e-87d1-432a-a821-a95597c1071c",
   "metadata": {},
   "source": [
    "Here are a few excerpts of the PPG signal when the subject is lying down, standing, walking, and running. The power spectral density of the PPG signal is also shown for each excerpt."
   ]
  },
  {
   "cell_type": "code",
   "execution_count": null,
   "id": "3111a439-54e9-48e3-9868-157b918a7ead",
   "metadata": {},
   "outputs": [],
   "source": [
    "def plot_power_spectral_density(\n",
    "    time, ppg, hr_time, hr, start=None, end=None, title=None\n",
    "):\n",
    "    fs = 1.0 / np.median(np.diff(time))\n",
    "    mask = np.ones(time.size, dtype=\"bool\")\n",
    "    hr_mask = np.ones(hr_time.size, dtype=\"bool\")\n",
    "    if start is not None:\n",
    "        mask = np.logical_and(mask, time >= start)\n",
    "        hr_mask = np.logical_and(hr_mask, hr_time >= start)\n",
    "    if end is not None:\n",
    "        mask = np.logical_and(mask, time <= end)\n",
    "        hr_mask = np.logical_and(hr_mask, hr_time <= end)\n",
    "    f, s = scipy.signal.welch(ppg[mask], fs=fs, nperseg=256, nfft=1024)\n",
    "    mean_hr = np.mean(hr[hr_mask])\n",
    "\n",
    "    plt.figure(constrained_layout=True)\n",
    "    if title is not None:\n",
    "        plt.suptitle(title)\n",
    "    plt.plot(f, s, linewidth=1)\n",
    "    plt.axvline(mean_hr / 60.0, color=\"tab:red\", label=\"Mean heart rate\")\n",
    "    plt.grid()\n",
    "    plt.xlabel(\"Frequency [Hz]\")\n",
    "    plt.ylabel(\"Power spectral density\")\n",
    "    plt.legend(loc=\"upper right\")\n",
    "\n",
    "\n",
    "segments = [\n",
    "    {\"start\": 60.0, \"end\": 90.0, \"title\": \"Lying down\"},\n",
    "    {\"start\": 340.0, \"end\": 370.0, \"title\": \"Standing\"},\n",
    "    {\"start\": 900.0, \"end\": 930.0, \"title\": \"Slow walking\"},\n",
    "    {\"start\": 1260.0, \"end\": 1290.0, \"title\": \"Fast walking\"},\n",
    "    {\"start\": 2000.0, \"end\": 2030.0, \"title\": \"Running\"},\n",
    "]\n",
    "for segment in segments:\n",
    "    plot_signals(\n",
    "        time,\n",
    "        acceleration,\n",
    "        ppg,\n",
    "        hr_time,\n",
    "        hr,\n",
    "        start=segment[\"start\"],\n",
    "        end=segment[\"end\"],\n",
    "        title=segment[\"title\"],\n",
    "    )\n",
    "    plot_power_spectral_density(\n",
    "        time,\n",
    "        ppg,\n",
    "        hr_time,\n",
    "        hr,\n",
    "        start=segment[\"start\"],\n",
    "        end=segment[\"end\"],\n",
    "        title=segment[\"title\"],\n",
    "    )"
   ]
  },
  {
   "cell_type": "markdown",
   "id": "55a1affa-6ef5-47a6-a1ee-6e7ab7d1f2c6",
   "metadata": {},
   "source": [
    "## Question 1\n",
    "\n",
    "What are the main differences in terms of acceleration and PPG signals between the different activites? When is the cardiac activity the most visible? Can you always see the cardiac activity?"
   ]
  }
 ],
 "metadata": {
  "kernelspec": {
   "display_name": "Python 3 (ipykernel)",
   "language": "python",
   "name": "python3"
  },
  "language_info": {
   "codemirror_mode": {
    "name": "ipython",
    "version": 3
   },
   "file_extension": ".py",
   "mimetype": "text/x-python",
   "name": "python",
   "nbconvert_exporter": "python",
   "pygments_lexer": "ipython3",
   "version": "3.10.12"
  }
 },
 "nbformat": 4,
 "nbformat_minor": 5
}
